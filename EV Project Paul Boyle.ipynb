{
 "cells": [
  {
   "cell_type": "markdown",
   "id": "3246e322",
   "metadata": {},
   "source": [
    "# <center> **Electric Vehicle Project** </center>"
   ]
  },
  {
   "cell_type": "markdown",
   "id": "498a5e27",
   "metadata": {},
   "source": [
    "## The brief: \n",
    "\n",
    "> *Greenwish Ltd needs a new fleet of sales rep cars for the UK.*  \n",
    "> *Employees, shareholders, clients and customers all want electric vehicles considering the large milage done by reps every year.*  \n",
    "> *Greenwish Ltd.’s board needs to make a decision, but it must be based on data.*  \n",
    "> *Use the dataset ‘evdataset.csv’ supplied to perform your analysis.*\n",
    "\n",
    "As part of the project I was asked to consider:\n",
    "\n",
    "- Which make and model to buy?\n",
    "- Which factors/variables are relevant to the decision?\n",
    "- Show your conclusions with persuasive visuals."
   ]
  },
  {
   "cell_type": "markdown",
   "id": "db8b03d5",
   "metadata": {},
   "source": [
    "## Data Cleansing"
   ]
  },
  {
   "cell_type": "markdown",
   "id": "3d93f9f7",
   "metadata": {},
   "source": [
    "The first step is to import the data and begin my data cleansing to ensure the data is ready to work on."
   ]
  },
  {
   "cell_type": "code",
   "execution_count": 1,
   "id": "5fc3cf3d",
   "metadata": {},
   "outputs": [],
   "source": [
    "#Import the library I am going to be using\n",
    "import pandas as pd\n",
    "\n",
    "#Create a dataframe from the csv spreadsheet provided\n",
    "df = pd.read_csv(r\"evdataset.csv\")"
   ]
  },
  {
   "cell_type": "code",
   "execution_count": 2,
   "id": "06ab5c27",
   "metadata": {},
   "outputs": [
    {
     "data": {
      "text/html": [
       "<div>\n",
       "<style scoped>\n",
       "    .dataframe tbody tr th:only-of-type {\n",
       "        vertical-align: middle;\n",
       "    }\n",
       "\n",
       "    .dataframe tbody tr th {\n",
       "        vertical-align: top;\n",
       "    }\n",
       "\n",
       "    .dataframe thead th {\n",
       "        text-align: right;\n",
       "    }\n",
       "</style>\n",
       "<table border=\"1\" class=\"dataframe\">\n",
       "  <thead>\n",
       "    <tr style=\"text-align: right;\">\n",
       "      <th></th>\n",
       "      <th>id</th>\n",
       "      <th>Make</th>\n",
       "      <th>link</th>\n",
       "      <th>City - Cold Weather</th>\n",
       "      <th>Highway - Cold Weather</th>\n",
       "      <th>Combined - Cold Weather</th>\n",
       "      <th>City - Mild Weather</th>\n",
       "      <th>Highway - Mild Weather</th>\n",
       "      <th>Combined - Mild Weather</th>\n",
       "      <th>Acceleration 0 - 100 km/h</th>\n",
       "      <th>...</th>\n",
       "      <th>Charge Speed</th>\n",
       "      <th>Fastcharge Speed</th>\n",
       "      <th>Length</th>\n",
       "      <th>Width</th>\n",
       "      <th>Height</th>\n",
       "      <th>Wheelbase</th>\n",
       "      <th>Gross Vehicle Weight (GVWR)</th>\n",
       "      <th>Max. Payload</th>\n",
       "      <th>Cargo Volume</th>\n",
       "      <th>Seats</th>\n",
       "    </tr>\n",
       "  </thead>\n",
       "  <tbody>\n",
       "    <tr>\n",
       "      <th>0</th>\n",
       "      <td>1647</td>\n",
       "      <td>Genesis</td>\n",
       "      <td>https://ev-database.org/car/1647/Genesis-GV60-...</td>\n",
       "      <td>390</td>\n",
       "      <td>275</td>\n",
       "      <td>330</td>\n",
       "      <td>575</td>\n",
       "      <td>355</td>\n",
       "      <td>445</td>\n",
       "      <td>7.8</td>\n",
       "      <td>...</td>\n",
       "      <td>49</td>\n",
       "      <td>1020</td>\n",
       "      <td>4515</td>\n",
       "      <td>1890</td>\n",
       "      <td>1580</td>\n",
       "      <td>2900</td>\n",
       "      <td>2495</td>\n",
       "      <td>595</td>\n",
       "      <td>432</td>\n",
       "      <td>5</td>\n",
       "    </tr>\n",
       "    <tr>\n",
       "      <th>1</th>\n",
       "      <td>1493</td>\n",
       "      <td>Mercedes</td>\n",
       "      <td>https://ev-database.org/car/1493/Mercedes-EQB-...</td>\n",
       "      <td>330</td>\n",
       "      <td>235</td>\n",
       "      <td>280</td>\n",
       "      <td>480</td>\n",
       "      <td>300</td>\n",
       "      <td>375</td>\n",
       "      <td>6.2</td>\n",
       "      <td>...</td>\n",
       "      <td>46</td>\n",
       "      <td>470</td>\n",
       "      <td>4684</td>\n",
       "      <td>1834</td>\n",
       "      <td>1701</td>\n",
       "      <td>2829</td>\n",
       "      <td>2580</td>\n",
       "      <td>480</td>\n",
       "      <td>495</td>\n",
       "      <td>7</td>\n",
       "    </tr>\n",
       "    <tr>\n",
       "      <th>2</th>\n",
       "      <td>1229</td>\n",
       "      <td>Porsche</td>\n",
       "      <td>https://ev-database.org/car/1229/Porsche-Tayca...</td>\n",
       "      <td>400</td>\n",
       "      <td>305</td>\n",
       "      <td>350</td>\n",
       "      <td>580</td>\n",
       "      <td>385</td>\n",
       "      <td>470</td>\n",
       "      <td>3.2</td>\n",
       "      <td>...</td>\n",
       "      <td>46</td>\n",
       "      <td>1020</td>\n",
       "      <td>4963</td>\n",
       "      <td>1966</td>\n",
       "      <td>1381</td>\n",
       "      <td>2900</td>\n",
       "      <td>2880</td>\n",
       "      <td>575</td>\n",
       "      <td>366</td>\n",
       "      <td>4</td>\n",
       "    </tr>\n",
       "  </tbody>\n",
       "</table>\n",
       "<p>3 rows × 27 columns</p>\n",
       "</div>"
      ],
      "text/plain": [
       "     id      Make                                               link  \\\n",
       "0  1647   Genesis  https://ev-database.org/car/1647/Genesis-GV60-...   \n",
       "1  1493  Mercedes  https://ev-database.org/car/1493/Mercedes-EQB-...   \n",
       "2  1229   Porsche  https://ev-database.org/car/1229/Porsche-Tayca...   \n",
       "\n",
       "   City - Cold Weather  Highway - Cold Weather  Combined - Cold Weather  \\\n",
       "0                  390                     275                      330   \n",
       "1                  330                     235                      280   \n",
       "2                  400                     305                      350   \n",
       "\n",
       "   City - Mild Weather  Highway - Mild Weather  Combined - Mild Weather  \\\n",
       "0                  575                     355                      445   \n",
       "1                  480                     300                      375   \n",
       "2                  580                     385                      470   \n",
       "\n",
       "   Acceleration 0 - 100 km/h  ...  Charge Speed  Fastcharge Speed  Length  \\\n",
       "0                        7.8  ...            49              1020    4515   \n",
       "1                        6.2  ...            46               470    4684   \n",
       "2                        3.2  ...            46              1020    4963   \n",
       "\n",
       "   Width Height  Wheelbase  Gross Vehicle Weight (GVWR)  Max. Payload  \\\n",
       "0   1890   1580       2900                         2495           595   \n",
       "1   1834   1701       2829                         2580           480   \n",
       "2   1966   1381       2900                         2880           575   \n",
       "\n",
       "   Cargo Volume  Seats  \n",
       "0           432      5  \n",
       "1           495      7  \n",
       "2           366      4  \n",
       "\n",
       "[3 rows x 27 columns]"
      ]
     },
     "execution_count": 2,
     "metadata": {},
     "output_type": "execute_result"
    }
   ],
   "source": [
    "#Check the data has been imported correctly using the head function\n",
    "df.head(3)"
   ]
  },
  {
   "cell_type": "code",
   "execution_count": 3,
   "id": "3c3ed9f9",
   "metadata": {},
   "outputs": [
    {
     "data": {
      "text/plain": [
       "id                             0\n",
       "Make                           0\n",
       "link                           0\n",
       "City - Cold Weather            0\n",
       "Highway - Cold Weather         0\n",
       "Combined - Cold Weather        0\n",
       "City - Mild Weather            0\n",
       "Highway - Mild Weather         0\n",
       "Combined - Mild Weather        0\n",
       "Acceleration 0 - 100 km/h      0\n",
       "Top Speed                      0\n",
       "Electric Range                 0\n",
       "Total Power                    0\n",
       "Total Torque                   0\n",
       "Drive                          0\n",
       "Battery Capacity               0\n",
       "Charge Power                   0\n",
       "Charge Speed                   0\n",
       "Fastcharge Speed               0\n",
       "Length                         0\n",
       "Width                          0\n",
       "Height                         0\n",
       "Wheelbase                      0\n",
       "Gross Vehicle Weight (GVWR)    0\n",
       "Max. Payload                   0\n",
       "Cargo Volume                   0\n",
       "Seats                          0\n",
       "dtype: int64"
      ]
     },
     "execution_count": 3,
     "metadata": {},
     "output_type": "execute_result"
    }
   ],
   "source": [
    "#Check if any of the rows contain null data\n",
    "df.isnull().sum()"
   ]
  },
  {
   "cell_type": "code",
   "execution_count": 4,
   "id": "b16308cf",
   "metadata": {},
   "outputs": [
    {
     "name": "stdout",
     "output_type": "stream",
     "text": [
      "Empty DataFrame\n",
      "Columns: [id, Make, link, City - Cold Weather, Highway - Cold Weather, Combined - Cold Weather, City - Mild Weather, Highway - Mild Weather, Combined - Mild Weather, Acceleration 0 - 100 km/h, Top Speed, Electric Range, Total Power, Total Torque, Drive, Battery Capacity, Charge Power, Charge Speed, Fastcharge Speed, Length, Width, Height, Wheelbase, Gross Vehicle Weight (GVWR), Max. Payload, Cargo Volume, Seats]\n",
      "Index: []\n",
      "\n",
      "[0 rows x 27 columns]\n"
     ]
    }
   ],
   "source": [
    "#None of the rows contain any null data, so next I will check for any duplicate values.\n",
    "duplicate_rows = df[df.duplicated()]\n",
    "print(duplicate_rows)"
   ]
  },
  {
   "cell_type": "code",
   "execution_count": 5,
   "id": "e54b1394",
   "metadata": {},
   "outputs": [],
   "source": [
    "#There are 0 rows in the resulting dataframe, so I know that there were no duplicate values."
   ]
  },
  {
   "cell_type": "code",
   "execution_count": 6,
   "id": "ebedf5b7",
   "metadata": {},
   "outputs": [
    {
     "data": {
      "text/plain": [
       "Index(['id', 'Make', 'link', 'City - Cold Weather', 'Highway - Cold Weather',\n",
       "       'Combined - Cold Weather', 'City - Mild Weather',\n",
       "       'Highway - Mild Weather', 'Combined - Mild Weather',\n",
       "       'Acceleration 0 - 100 km/h', 'Top Speed', 'Electric Range',\n",
       "       'Total Power', 'Total Torque', 'Drive', 'Battery Capacity',\n",
       "       'Charge Power', 'Charge Speed', 'Fastcharge Speed', 'Length', 'Width',\n",
       "       'Height', 'Wheelbase', 'Gross Vehicle Weight (GVWR)', 'Max. Payload',\n",
       "       'Cargo Volume', 'Seats'],\n",
       "      dtype='object')"
      ]
     },
     "execution_count": 6,
     "metadata": {},
     "output_type": "execute_result"
    }
   ],
   "source": [
    "#Examine the columns and consider what will likely be useful for my analysis, and what could be dropped.\n",
    "df.columns"
   ]
  },
  {
   "cell_type": "markdown",
   "id": "fd55d098",
   "metadata": {},
   "source": [
    "Looking at the data I can already see that the unique id is not required as we have our own index if needed.\n",
    "\n",
    "I suspect that the Drive column will not be necessary, but I want to check what data it contains before I remove it."
   ]
  },
  {
   "cell_type": "code",
   "execution_count": 7,
   "id": "8d0e772c",
   "metadata": {},
   "outputs": [
    {
     "data": {
      "text/plain": [
       "array(['Rear', 'AWD', 'Front'], dtype=object)"
      ]
     },
     "execution_count": 7,
     "metadata": {},
     "output_type": "execute_result"
    }
   ],
   "source": [
    "#Check what values are in the Drive column to see if they are needed\n",
    "df['Drive'].unique()"
   ]
  },
  {
   "cell_type": "markdown",
   "id": "e57b8112",
   "metadata": {},
   "source": [
    "The Drive column just contains the types of drive of the car, which won't be required for this project as all drive modes will drive on UK roads.\n",
    "\n",
    "I am also going to drop the metrics related to size and weight, as I don't feel that they will be part of my decision process during this project as all the cars will be of a legal size for UK roads.  \n",
    "\n",
    "Certain assumptions have to be made about the company as we have been given no further information about them. Because of this I am going to assume that the sales team don't need to carry around heavy product samples and that at most they would have a suitcase with them which would mean that the payload and cargo volume columns are unncessary as all the cars will have sufficient storage for a suitcase.  \n",
    "\n",
    "As I am not a mechanical engineer I am not qualified to make decisions based on total power or torque.  It is safe to assume that all cars listed are legally allowed to be driven on UK roads and that therefore the power must be sufficient.  I am also not going to use power or torque as a metric in my analysis as I doubt the company would be interested in how powerful a car is against its mileage etc.  Therefore I will also drop these columns from my dataframe.\n",
    "\n",
    "The link column contains both helpful and unhelpful data.  We need the model name from the end of the link as that is not provided for us elsewhere, however the actual link is not necessary.  I will need to strip and extract the model from the link."
   ]
  },
  {
   "cell_type": "code",
   "execution_count": 8,
   "id": "7c5ee2a5",
   "metadata": {},
   "outputs": [],
   "source": [
    "#First I will remove the id, Drive, Length, Width, Height, Wheelbase and Gross Vehicle Weight (GVWR) columns.\n",
    "df = df.drop(columns = ['id', 'Total Power', 'Total Torque', 'Drive', 'Length', 'Width', 'Height', \n",
    "                        'Wheelbase', 'Gross Vehicle Weight (GVWR)', 'Max. Payload', 'Cargo Volume'])"
   ]
  },
  {
   "cell_type": "markdown",
   "id": "5657c56a",
   "metadata": {},
   "source": [
    "Next I will extract the model names from the link to make the data more usable. \n",
    "\n",
    "I can see that the links follow the same layout:\n",
    "https://ev-database.org/car/1647/Genesis-GV60-Premium\n",
    "\n",
    "The model name is listed at the end of the link and all the links start with https://ev-database.org/car/####/"
   ]
  },
  {
   "cell_type": "code",
   "execution_count": 9,
   "id": "b6fcdd61",
   "metadata": {},
   "outputs": [],
   "source": [
    "#So to extract the model name I will remove the first 33 characters from the link to extract just the model name\n",
    "df['link'] = df['link'].str[33:]\n",
    "\n",
    "#Next I strip the resulting string to ensure that all blank spaces are removed\n",
    "df['link'].str.strip()\n",
    "\n",
    "#Then I replace all the hyphens with spaces to make the resulting name more legible\n",
    "df['link'] = df['link'].str.replace('-', ' ')\n",
    "\n",
    "#Finally I will rename the column to Model to make it easier to read\n",
    "df = df.rename(columns={'link': 'Model'})"
   ]
  },
  {
   "cell_type": "code",
   "execution_count": 10,
   "id": "0d37bc9b",
   "metadata": {},
   "outputs": [
    {
     "data": {
      "text/html": [
       "<div>\n",
       "<style scoped>\n",
       "    .dataframe tbody tr th:only-of-type {\n",
       "        vertical-align: middle;\n",
       "    }\n",
       "\n",
       "    .dataframe tbody tr th {\n",
       "        vertical-align: top;\n",
       "    }\n",
       "\n",
       "    .dataframe thead th {\n",
       "        text-align: right;\n",
       "    }\n",
       "</style>\n",
       "<table border=\"1\" class=\"dataframe\">\n",
       "  <thead>\n",
       "    <tr style=\"text-align: right;\">\n",
       "      <th></th>\n",
       "      <th>Make</th>\n",
       "      <th>Model</th>\n",
       "      <th>City - Cold Weather</th>\n",
       "      <th>Highway - Cold Weather</th>\n",
       "      <th>Combined - Cold Weather</th>\n",
       "      <th>City - Mild Weather</th>\n",
       "      <th>Highway - Mild Weather</th>\n",
       "      <th>Combined - Mild Weather</th>\n",
       "      <th>Acceleration 0 - 100 km/h</th>\n",
       "      <th>Top Speed</th>\n",
       "      <th>Electric Range</th>\n",
       "      <th>Battery Capacity</th>\n",
       "      <th>Charge Power</th>\n",
       "      <th>Charge Speed</th>\n",
       "      <th>Fastcharge Speed</th>\n",
       "      <th>Seats</th>\n",
       "    </tr>\n",
       "  </thead>\n",
       "  <tbody>\n",
       "    <tr>\n",
       "      <th>0</th>\n",
       "      <td>Genesis</td>\n",
       "      <td>Genesis GV60 Premium</td>\n",
       "      <td>390</td>\n",
       "      <td>275</td>\n",
       "      <td>330</td>\n",
       "      <td>575</td>\n",
       "      <td>355</td>\n",
       "      <td>445</td>\n",
       "      <td>7.8</td>\n",
       "      <td>185</td>\n",
       "      <td>390</td>\n",
       "      <td>77.4</td>\n",
       "      <td>11.0</td>\n",
       "      <td>49</td>\n",
       "      <td>1020</td>\n",
       "      <td>5</td>\n",
       "    </tr>\n",
       "    <tr>\n",
       "      <th>1</th>\n",
       "      <td>Mercedes</td>\n",
       "      <td>Mercedes EQB 350 4MATIC</td>\n",
       "      <td>330</td>\n",
       "      <td>235</td>\n",
       "      <td>280</td>\n",
       "      <td>480</td>\n",
       "      <td>300</td>\n",
       "      <td>375</td>\n",
       "      <td>6.2</td>\n",
       "      <td>160</td>\n",
       "      <td>330</td>\n",
       "      <td>69.7</td>\n",
       "      <td>11.0</td>\n",
       "      <td>46</td>\n",
       "      <td>470</td>\n",
       "      <td>7</td>\n",
       "    </tr>\n",
       "    <tr>\n",
       "      <th>2</th>\n",
       "      <td>Porsche</td>\n",
       "      <td>Porsche Taycan Turbo</td>\n",
       "      <td>400</td>\n",
       "      <td>305</td>\n",
       "      <td>350</td>\n",
       "      <td>580</td>\n",
       "      <td>385</td>\n",
       "      <td>470</td>\n",
       "      <td>3.2</td>\n",
       "      <td>260</td>\n",
       "      <td>415</td>\n",
       "      <td>93.4</td>\n",
       "      <td>11.0</td>\n",
       "      <td>46</td>\n",
       "      <td>1020</td>\n",
       "      <td>4</td>\n",
       "    </tr>\n",
       "  </tbody>\n",
       "</table>\n",
       "</div>"
      ],
      "text/plain": [
       "       Make                    Model  City - Cold Weather  \\\n",
       "0   Genesis     Genesis GV60 Premium                  390   \n",
       "1  Mercedes  Mercedes EQB 350 4MATIC                  330   \n",
       "2   Porsche     Porsche Taycan Turbo                  400   \n",
       "\n",
       "   Highway - Cold Weather  Combined - Cold Weather  City - Mild Weather  \\\n",
       "0                     275                      330                  575   \n",
       "1                     235                      280                  480   \n",
       "2                     305                      350                  580   \n",
       "\n",
       "   Highway - Mild Weather  Combined - Mild Weather  Acceleration 0 - 100 km/h  \\\n",
       "0                     355                      445                        7.8   \n",
       "1                     300                      375                        6.2   \n",
       "2                     385                      470                        3.2   \n",
       "\n",
       "   Top Speed  Electric Range  Battery Capacity  Charge Power  Charge Speed  \\\n",
       "0        185             390              77.4          11.0            49   \n",
       "1        160             330              69.7          11.0            46   \n",
       "2        260             415              93.4          11.0            46   \n",
       "\n",
       "   Fastcharge Speed  Seats  \n",
       "0              1020      5  \n",
       "1               470      7  \n",
       "2              1020      4  "
      ]
     },
     "execution_count": 10,
     "metadata": {},
     "output_type": "execute_result"
    }
   ],
   "source": [
    "#Check the head to ensure that all the changes have worked\n",
    "df.head(3)"
   ]
  },
  {
   "cell_type": "markdown",
   "id": "3d117bfa",
   "metadata": {},
   "source": [
    "Finally it is worth updating some of the column names with the appropriate units, as currently they are unlabelled.  By following the link provided in the original data I can see that all speeds and distances are in km and km/h, while the Battery Capacity is in kWh, Charge Power is in kW, Charge Speeds are in km/h.  "
   ]
  },
  {
   "cell_type": "code",
   "execution_count": 11,
   "id": "b543e830",
   "metadata": {},
   "outputs": [],
   "source": [
    "df = df.rename(columns={'City - Cold Weather': 'City - Cold Weather (km)', \n",
    "                        'Highway - Cold Weather': 'Highway - Cold Weather (km)', \n",
    "                        'Combined - Cold Weather': 'Combined - Cold Weather (km)',\n",
    "                       'City - Mild Weather': 'City - Mild Weather (km)',\n",
    "                       'Highway - Mild Weather': 'Highway - Mild Weather (km)', \n",
    "                       'Combined - Mild Weather': 'Combined - Mild Weather (km)',\n",
    "                       'Top Speed': 'Top Speed (km/h)',\n",
    "                       'Electric Range': 'Electric Range (km)',\n",
    "                       'Battery Capacity': 'Battery Capacity (kWh)',\n",
    "                       'Charge Power': 'Charge Power (kW)',\n",
    "                       'Charge Speed': 'Charge Speed (km/h)',\n",
    "                       'Fastcharge Speed': 'Fastcharge Speed (km/h)'})"
   ]
  },
  {
   "cell_type": "markdown",
   "id": "69037c55",
   "metadata": {},
   "source": [
    "## Data Analysis\n",
    "\n",
    "Now that the dataframe has been cleaned to remove unnecessary data, and it has been confirmed that there are no null values or duplicates, it is time to analyse the data to extract actionable information for the company."
   ]
  },
  {
   "cell_type": "markdown",
   "id": "07a948ec",
   "metadata": {},
   "source": [
    "### Which factors/variables are relevant to the decision?\n",
    "\n",
    "In my opinion the most important factor is the electric range of the vehicle, as the longer the car can travel between charges reduces the amount of 'down time' while the sales reps are waiting for the car to charge.  The second most important factor is the charge speed.  Again this is important to reduce the amount of 'down time' the sales reps experience, with a faster charge speed being better.  The data also contains Fastcharge speed.  While this could be an important metric, I feel that fast chargers are less prevalant and so it is better to use the regular charge speed with the fastcharge speed used to differentiate between two similar vehicles.  \n",
    "\n",
    "Although I have left acceleration and top speed in my dataframe I don't feel these are particularly important for the analysis, as all cars go above the national motorway speed limit of 70mph (As shown below)."
   ]
  },
  {
   "cell_type": "code",
   "execution_count": 12,
   "id": "0319d4cc",
   "metadata": {},
   "outputs": [
    {
     "data": {
      "text/plain": [
       "True"
      ]
     },
     "execution_count": 12,
     "metadata": {},
     "output_type": "execute_result"
    }
   ],
   "source": [
    "#Confirmimg the minimum top speed of the vehicles is greater than the maximum national speed limit.\n",
    "#Calculated in km/h by multiplying 70mph by the conversion factor of 1.6093440006147\n",
    "df['Top Speed (km/h)'].min() > (70 * 1.6093440006147) "
   ]
  },
  {
   "cell_type": "markdown",
   "id": "93c0d1fa",
   "metadata": {},
   "source": [
    "Although the cars don't need to be particularly large, it is probably better to remove any 2 seaters as it may be that sales reps are transporting clients to lunch meetings etc.  "
   ]
  },
  {
   "cell_type": "code",
   "execution_count": 13,
   "id": "eb343ed8",
   "metadata": {},
   "outputs": [
    {
     "name": "stdout",
     "output_type": "stream",
     "text": [
      "Min Seats:  4\n",
      "Max Seats:  9\n"
     ]
    }
   ],
   "source": [
    "#Checking to see the minumum and maximum seats of the cars\n",
    "print('Min Seats: ', df['Seats'].min())\n",
    "print('Max Seats: ', df['Seats'].max())"
   ]
  },
  {
   "cell_type": "markdown",
   "id": "9935214e",
   "metadata": {},
   "source": [
    "All the cars have at least 4 seats and some have up to 9.  I am not going to disregard 4 seater cars at this point, but if I need to narrow down between a choice of cars later I will add more weight to a higher number of seats.\n",
    "\n",
    "As I have identified the Electric Range as the most important factor I will now look into the range further."
   ]
  },
  {
   "cell_type": "code",
   "execution_count": 14,
   "id": "a6ac7634",
   "metadata": {},
   "outputs": [
    {
     "data": {
      "text/plain": [
       "count    194.000000\n",
       "mean     345.592784\n",
       "std      101.384377\n",
       "min      135.000000\n",
       "25%      265.000000\n",
       "50%      352.500000\n",
       "75%      410.000000\n",
       "max      640.000000\n",
       "Name: Electric Range (km), dtype: float64"
      ]
     },
     "execution_count": 14,
     "metadata": {},
     "output_type": "execute_result"
    }
   ],
   "source": [
    "#Showing mathematical data for the range column.\n",
    "df['Electric Range (km)'].describe()"
   ]
  },
  {
   "cell_type": "markdown",
   "id": "d434228d",
   "metadata": {},
   "source": [
    "The data shows that the minimum range is 135 km while the maximum is 640km.  Only the top 25% of cars have a range higher than 410km.  As this is the most important factor in deciding which car to pick I will drop the cars which have a shorter range than 410km.  "
   ]
  },
  {
   "cell_type": "code",
   "execution_count": 15,
   "id": "028b8234",
   "metadata": {},
   "outputs": [
    {
     "data": {
      "text/plain": [
       "51"
      ]
     },
     "execution_count": 15,
     "metadata": {},
     "output_type": "execute_result"
    }
   ],
   "source": [
    "#Updating the dataframe to only contain rows where the Electric Range is greater than or equal to 410\n",
    "df = df.loc[df['Electric Range (km)'] >= 410]\n",
    "\n",
    "#Reset the index\n",
    "df = df.reset_index(drop=True)\n",
    "\n",
    "#Getting the length of the new dataframe to see how many vehicles are remaining\n",
    "len(df.index)"
   ]
  },
  {
   "cell_type": "markdown",
   "id": "fdc4dd70",
   "metadata": {},
   "source": [
    "The results have now been pared down to 51 possible vehicles.  To further narrow down the choices I will compare the charge speeds of the cars."
   ]
  },
  {
   "cell_type": "code",
   "execution_count": 16,
   "id": "d52f32e6",
   "metadata": {},
   "outputs": [
    {
     "data": {
      "text/plain": [
       "count    51.000000\n",
       "mean     50.392157\n",
       "std       4.050079\n",
       "min      42.000000\n",
       "25%      47.000000\n",
       "50%      51.000000\n",
       "75%      53.500000\n",
       "max      60.000000\n",
       "Name: Charge Speed (km/h), dtype: float64"
      ]
     },
     "execution_count": 16,
     "metadata": {},
     "output_type": "execute_result"
    }
   ],
   "source": [
    "#Showing mathematical data for the charge speed column.\n",
    "df['Charge Speed (km/h)'].describe()"
   ]
  },
  {
   "cell_type": "markdown",
   "id": "ccaed6d8",
   "metadata": {},
   "source": [
    "I will select only the top 25% of cars for charge speed, so only cars with a charge speed of greater than 53.5."
   ]
  },
  {
   "cell_type": "code",
   "execution_count": 17,
   "id": "88aede48",
   "metadata": {},
   "outputs": [
    {
     "data": {
      "text/plain": [
       "13"
      ]
     },
     "execution_count": 17,
     "metadata": {},
     "output_type": "execute_result"
    }
   ],
   "source": [
    "#Updating the dataframe to only contain rows where the Electric Range is greater than or equal to 410\n",
    "df = df.loc[df['Charge Speed (km/h)'] >= 53.5]\n",
    "\n",
    "#Reset the index\n",
    "df = df.reset_index(drop=True)\n",
    "\n",
    "#Getting the length of the new dataframe to see how many vehicles are remaining\n",
    "len(df.index)"
   ]
  },
  {
   "cell_type": "markdown",
   "id": "e5d8f63b",
   "metadata": {},
   "source": [
    "Now I will select only the top 10 cars by range to pick the best one for the company by contrasting them."
   ]
  },
  {
   "cell_type": "code",
   "execution_count": 18,
   "id": "d3ab9193",
   "metadata": {},
   "outputs": [],
   "source": [
    "# First sort the remaining cars by range to ensure the longest ranges are at the top of the dataframe.\n",
    "df = df.sort_values(by = ['Electric Range (km)'], ascending=False).reset_index(drop = True)\n",
    "\n",
    "#Then drop all but the top 10 results\n",
    "df = df.head(10)"
   ]
  },
  {
   "cell_type": "markdown",
   "id": "aa227d83",
   "metadata": {},
   "source": [
    "Using the describe function I can start to compare the remaining cars.  Looking at the standard deviation I can see that in the most important measure range the standard deviation is relatively low, the same for the Charge Speed.  However the Fastcharge Speed has quite a high standard deviation indicating some cars are much worse than others.  Therefore an easy way to narrow down the remaining selection is to drop the 5 cars with the lowest fastcharge speed. "
   ]
  },
  {
   "cell_type": "code",
   "execution_count": 19,
   "id": "baa53201",
   "metadata": {},
   "outputs": [
    {
     "data": {
      "text/html": [
       "<div>\n",
       "<style scoped>\n",
       "    .dataframe tbody tr th:only-of-type {\n",
       "        vertical-align: middle;\n",
       "    }\n",
       "\n",
       "    .dataframe tbody tr th {\n",
       "        vertical-align: top;\n",
       "    }\n",
       "\n",
       "    .dataframe thead th {\n",
       "        text-align: right;\n",
       "    }\n",
       "</style>\n",
       "<table border=\"1\" class=\"dataframe\">\n",
       "  <thead>\n",
       "    <tr style=\"text-align: right;\">\n",
       "      <th></th>\n",
       "      <th>City - Cold Weather (km)</th>\n",
       "      <th>Highway - Cold Weather (km)</th>\n",
       "      <th>Combined - Cold Weather (km)</th>\n",
       "      <th>City - Mild Weather (km)</th>\n",
       "      <th>Highway - Mild Weather (km)</th>\n",
       "      <th>Combined - Mild Weather (km)</th>\n",
       "      <th>Acceleration 0 - 100 km/h</th>\n",
       "      <th>Top Speed (km/h)</th>\n",
       "      <th>Electric Range (km)</th>\n",
       "      <th>Battery Capacity (kWh)</th>\n",
       "      <th>Charge Power (kW)</th>\n",
       "      <th>Charge Speed (km/h)</th>\n",
       "      <th>Fastcharge Speed (km/h)</th>\n",
       "      <th>Seats</th>\n",
       "    </tr>\n",
       "  </thead>\n",
       "  <tbody>\n",
       "    <tr>\n",
       "      <th>count</th>\n",
       "      <td>10.000000</td>\n",
       "      <td>10.000000</td>\n",
       "      <td>10.000000</td>\n",
       "      <td>10.000000</td>\n",
       "      <td>10.000000</td>\n",
       "      <td>10.00000</td>\n",
       "      <td>10.000000</td>\n",
       "      <td>10.000000</td>\n",
       "      <td>10.000000</td>\n",
       "      <td>10.000000</td>\n",
       "      <td>10.0</td>\n",
       "      <td>10.000000</td>\n",
       "      <td>10.00000</td>\n",
       "      <td>10.000000</td>\n",
       "    </tr>\n",
       "    <tr>\n",
       "      <th>mean</th>\n",
       "      <td>472.000000</td>\n",
       "      <td>358.500000</td>\n",
       "      <td>414.500000</td>\n",
       "      <td>711.000000</td>\n",
       "      <td>466.000000</td>\n",
       "      <td>570.50000</td>\n",
       "      <td>6.280000</td>\n",
       "      <td>200.400000</td>\n",
       "      <td>496.000000</td>\n",
       "      <td>91.390000</td>\n",
       "      <td>11.0</td>\n",
       "      <td>55.400000</td>\n",
       "      <td>694.00000</td>\n",
       "      <td>4.800000</td>\n",
       "    </tr>\n",
       "    <tr>\n",
       "      <th>std</th>\n",
       "      <td>49.114379</td>\n",
       "      <td>46.371088</td>\n",
       "      <td>48.616984</td>\n",
       "      <td>73.022067</td>\n",
       "      <td>61.364123</td>\n",
       "      <td>68.37194</td>\n",
       "      <td>1.501703</td>\n",
       "      <td>33.513513</td>\n",
       "      <td>58.442755</td>\n",
       "      <td>13.071976</td>\n",
       "      <td>0.0</td>\n",
       "      <td>1.897367</td>\n",
       "      <td>121.49074</td>\n",
       "      <td>0.421637</td>\n",
       "    </tr>\n",
       "    <tr>\n",
       "      <th>min</th>\n",
       "      <td>435.000000</td>\n",
       "      <td>320.000000</td>\n",
       "      <td>375.000000</td>\n",
       "      <td>655.000000</td>\n",
       "      <td>415.000000</td>\n",
       "      <td>515.00000</td>\n",
       "      <td>3.300000</td>\n",
       "      <td>160.000000</td>\n",
       "      <td>450.000000</td>\n",
       "      <td>82.000000</td>\n",
       "      <td>11.0</td>\n",
       "      <td>54.000000</td>\n",
       "      <td>570.00000</td>\n",
       "      <td>4.000000</td>\n",
       "    </tr>\n",
       "    <tr>\n",
       "      <th>25%</th>\n",
       "      <td>440.000000</td>\n",
       "      <td>322.500000</td>\n",
       "      <td>381.250000</td>\n",
       "      <td>661.250000</td>\n",
       "      <td>418.750000</td>\n",
       "      <td>522.50000</td>\n",
       "      <td>5.825000</td>\n",
       "      <td>167.500000</td>\n",
       "      <td>452.500000</td>\n",
       "      <td>82.000000</td>\n",
       "      <td>11.0</td>\n",
       "      <td>54.000000</td>\n",
       "      <td>590.00000</td>\n",
       "      <td>5.000000</td>\n",
       "    </tr>\n",
       "    <tr>\n",
       "      <th>50%</th>\n",
       "      <td>450.000000</td>\n",
       "      <td>345.000000</td>\n",
       "      <td>395.000000</td>\n",
       "      <td>685.000000</td>\n",
       "      <td>450.000000</td>\n",
       "      <td>550.00000</td>\n",
       "      <td>6.400000</td>\n",
       "      <td>210.000000</td>\n",
       "      <td>477.500000</td>\n",
       "      <td>82.950000</td>\n",
       "      <td>11.0</td>\n",
       "      <td>55.000000</td>\n",
       "      <td>680.00000</td>\n",
       "      <td>5.000000</td>\n",
       "    </tr>\n",
       "    <tr>\n",
       "      <th>75%</th>\n",
       "      <td>485.000000</td>\n",
       "      <td>375.000000</td>\n",
       "      <td>430.000000</td>\n",
       "      <td>730.000000</td>\n",
       "      <td>485.000000</td>\n",
       "      <td>590.00000</td>\n",
       "      <td>7.450000</td>\n",
       "      <td>210.000000</td>\n",
       "      <td>515.000000</td>\n",
       "      <td>100.000000</td>\n",
       "      <td>11.0</td>\n",
       "      <td>55.750000</td>\n",
       "      <td>745.00000</td>\n",
       "      <td>5.000000</td>\n",
       "    </tr>\n",
       "    <tr>\n",
       "      <th>max</th>\n",
       "      <td>595.000000</td>\n",
       "      <td>470.000000</td>\n",
       "      <td>535.000000</td>\n",
       "      <td>895.000000</td>\n",
       "      <td>615.000000</td>\n",
       "      <td>740.00000</td>\n",
       "      <td>7.900000</td>\n",
       "      <td>261.000000</td>\n",
       "      <td>640.000000</td>\n",
       "      <td>120.000000</td>\n",
       "      <td>11.0</td>\n",
       "      <td>60.000000</td>\n",
       "      <td>960.00000</td>\n",
       "      <td>5.000000</td>\n",
       "    </tr>\n",
       "  </tbody>\n",
       "</table>\n",
       "</div>"
      ],
      "text/plain": [
       "       City - Cold Weather (km)  Highway - Cold Weather (km)  \\\n",
       "count                 10.000000                    10.000000   \n",
       "mean                 472.000000                   358.500000   \n",
       "std                   49.114379                    46.371088   \n",
       "min                  435.000000                   320.000000   \n",
       "25%                  440.000000                   322.500000   \n",
       "50%                  450.000000                   345.000000   \n",
       "75%                  485.000000                   375.000000   \n",
       "max                  595.000000                   470.000000   \n",
       "\n",
       "       Combined - Cold Weather (km)  City - Mild Weather (km)  \\\n",
       "count                     10.000000                 10.000000   \n",
       "mean                     414.500000                711.000000   \n",
       "std                       48.616984                 73.022067   \n",
       "min                      375.000000                655.000000   \n",
       "25%                      381.250000                661.250000   \n",
       "50%                      395.000000                685.000000   \n",
       "75%                      430.000000                730.000000   \n",
       "max                      535.000000                895.000000   \n",
       "\n",
       "       Highway - Mild Weather (km)  Combined - Mild Weather (km)  \\\n",
       "count                    10.000000                      10.00000   \n",
       "mean                    466.000000                     570.50000   \n",
       "std                      61.364123                      68.37194   \n",
       "min                     415.000000                     515.00000   \n",
       "25%                     418.750000                     522.50000   \n",
       "50%                     450.000000                     550.00000   \n",
       "75%                     485.000000                     590.00000   \n",
       "max                     615.000000                     740.00000   \n",
       "\n",
       "       Acceleration 0 - 100 km/h  Top Speed (km/h)  Electric Range (km)  \\\n",
       "count                  10.000000         10.000000            10.000000   \n",
       "mean                    6.280000        200.400000           496.000000   \n",
       "std                     1.501703         33.513513            58.442755   \n",
       "min                     3.300000        160.000000           450.000000   \n",
       "25%                     5.825000        167.500000           452.500000   \n",
       "50%                     6.400000        210.000000           477.500000   \n",
       "75%                     7.450000        210.000000           515.000000   \n",
       "max                     7.900000        261.000000           640.000000   \n",
       "\n",
       "       Battery Capacity (kWh)  Charge Power (kW)  Charge Speed (km/h)  \\\n",
       "count               10.000000               10.0            10.000000   \n",
       "mean                91.390000               11.0            55.400000   \n",
       "std                 13.071976                0.0             1.897367   \n",
       "min                 82.000000               11.0            54.000000   \n",
       "25%                 82.000000               11.0            54.000000   \n",
       "50%                 82.950000               11.0            55.000000   \n",
       "75%                100.000000               11.0            55.750000   \n",
       "max                120.000000               11.0            60.000000   \n",
       "\n",
       "       Fastcharge Speed (km/h)      Seats  \n",
       "count                 10.00000  10.000000  \n",
       "mean                 694.00000   4.800000  \n",
       "std                  121.49074   0.421637  \n",
       "min                  570.00000   4.000000  \n",
       "25%                  590.00000   5.000000  \n",
       "50%                  680.00000   5.000000  \n",
       "75%                  745.00000   5.000000  \n",
       "max                  960.00000   5.000000  "
      ]
     },
     "execution_count": 19,
     "metadata": {},
     "output_type": "execute_result"
    }
   ],
   "source": [
    "#Comparing the remaining cars using describe\n",
    "df.describe()"
   ]
  },
  {
   "cell_type": "code",
   "execution_count": 20,
   "id": "950a0a51",
   "metadata": {},
   "outputs": [],
   "source": [
    "# First sort the remaining cars by Fastcharge speed to ensure the longest ranges are at the top of the dataframe.\n",
    "df = df.sort_values(by = ['Fastcharge Speed (km/h)'], ascending=False).reset_index(drop = True)\n",
    "\n",
    "#Then drop all but the top 5 results\n",
    "df = df.head(5)"
   ]
  },
  {
   "cell_type": "markdown",
   "id": "365b6212",
   "metadata": {},
   "source": [
    "## Plotting the results\n",
    "\n",
    "Now the final cars can be plotted against each other to better compare them."
   ]
  },
  {
   "cell_type": "code",
   "execution_count": 21,
   "id": "90f16e49",
   "metadata": {
    "scrolled": false
   },
   "outputs": [
    {
     "data": {
      "image/png": "[encoded data removed]",
      "text/plain": [
       "<Figure size 1000x1600 with 3 Axes>"
      ]
     },
     "metadata": {},
     "output_type": "display_data"
    }
   ],
   "source": [
    "#Import matplotlib\n",
    "import matplotlib.pyplot as plt\n",
    "\n",
    "#Set the subplots and their size\n",
    "fig, ax = plt.subplots(3, figsize=(10, 16))\n",
    "\n",
    "ax[0].set_title('Electric Range of each model', fontsize = 25)\n",
    "\n",
    "#I have used a colour palette that is pleasing to look at and is colour blind friendly\n",
    "ax[0].bar(df['Model'], df['Electric Range (km)'], \n",
    "          color = ['#b3cde0', '#ffc296', '#c7e9c0', '#d4c4e8', '#fbd8c9'])\n",
    "ax[0].set_ylabel(\"Electric Range (km)\")\n",
    "ax[0].tick_params(axis='x', rotation=30)\n",
    "ax[0].set_ylim(400, 650)\n",
    "\n",
    "ax[1].set_title('Charge Speed of each Model', fontsize = 25)\n",
    "ax[1].bar(df['Model'], df['Charge Speed (km/h)'],\n",
    "         color = ['#b3cde0', '#ffc296', '#c7e9c0', '#d4c4e8', '#fbd8c9'])\n",
    "ax[1].set_ylabel('Charge Speed (km/h)')\n",
    "ax[1].tick_params(axis='x', rotation=30)\n",
    "ax[1].set_ylim(52, 61)\n",
    "\n",
    "ax[2].set_title('Fastcharge Speed of each Model', fontsize = 25)\n",
    "ax[2].bar(df['Model'], df['Fastcharge Speed (km/h)'],\n",
    "         color = ['#b3cde0', '#ffc296', '#c7e9c0', '#d4c4e8', '#fbd8c9'])\n",
    "ax[2].set_ylabel('Fastcharge Speed (km/h)')\n",
    "ax[2].tick_params(axis='x', rotation=30)\n",
    "ax[2].set_ylim(650, 990)\n",
    "\n",
    "\n",
    "#Adjusting the gap between the two subplots to ensure legibility\n",
    "plt.subplots_adjust(hspace=0.7)\n",
    "\n",
    "plt.show()\n"
   ]
  },
  {
   "cell_type": "markdown",
   "id": "9ed4f114",
   "metadata": {},
   "source": [
    "## Conclusions\n",
    "\n",
    "By looking at the graphs it is easy to see that the Mercedes EQS 450plus has the longest range.  However the Tesla Model 3 Long Range Dual Motor has a faster standard charge speed, but again the Mercedes has the faster Fastcharge speed.  Therefore based on the data given alone I would recommend the Mercedes as the overall best car for the fleet.  "
   ]
  },
  {
   "cell_type": "markdown",
   "id": "a12343eb",
   "metadata": {},
   "source": [
    "# Final Recommendation:\n",
    "# <center> Mercedes EQS 450plus  </center>\n",
    "![](https://ev-database.org/img/auto/Mercedes_EQS_2021/Mercedes_EQS_2021-01.jpg)\n",
    "<br>\n",
    "<br>\n",
    "<center>- Longest Range </center>\n",
    "<center>- Best mix of Charge speed and Fastcharge speed </center>"
   ]
  }
 ],
 "metadata": {
  "kernelspec": {
   "display_name": "Python 3 (ipykernel)",
   "language": "python",
   "name": "python3"
  },
  "language_info": {
   "codemirror_mode": {
    "name": "ipython",
    "version": 3
   },
   "file_extension": ".py",
   "mimetype": "text/x-python",
   "name": "python",
   "nbconvert_exporter": "python",
   "pygments_lexer": "ipython3",
   "version": "3.10.9"
  },
  "varInspector": {
   "cols": {
    "lenName": 16,
    "lenType": 16,
    "lenVar": 40
   },
   "kernels_config": {
    "python": {
     "delete_cmd_postfix": "",
     "delete_cmd_prefix": "del ",
     "library": "var_list.py",
     "varRefreshCmd": "print(var_dic_list())"
    },
    "r": {
     "delete_cmd_postfix": ") ",
     "delete_cmd_prefix": "rm(",
     "library": "var_list.r",
     "varRefreshCmd": "cat(var_dic_list()) "
    }
   },
   "types_to_exclude": [
    "module",
    "function",
    "builtin_function_or_method",
    "instance",
    "_Feature"
   ],
   "window_display": false
  }
 },
 "nbformat": 4,
 "nbformat_minor": 5
}
